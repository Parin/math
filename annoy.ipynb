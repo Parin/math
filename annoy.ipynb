{
 "cells": [
  {
   "cell_type": "markdown",
   "metadata": {},
   "source": [
    "# Understanding angular distance metric in [Annoy Index](https://github.com/spotify/annoy)\n",
    "\n",
    "Annoy uses *Euclidean* distance of *normalized* vectors for its angular distance, which for two vectors $u$, $v$ is equal to $\\sqrt{2(1-cos(u,v))}$\n",
    "\n",
    "For $\\mathcal{L_2}$ normalized vectors $u$ and $v$,\n",
    "* $||u||=1$ and $||v||=1$\n",
    "\n",
    "Euclidean distance $ED$,\n",
    "\\begin{equation}\n",
    "\\begin{split}\n",
    "ED &= || u - v||\\\\\n",
    "   &= \\sqrt{(u - v)^(u - v)}\\\\\n",
    "   &= \\sqrt{u^Tu - 2u^Tv + v^Tv}\\\\\n",
    "   &= \\sqrt{2 -2u^Tv}\\\\\n",
    "   &= \\sqrt{2(1 - \\frac{2u^Tv}{||u||||v||})}\\\\\n",
    "   &= \\sqrt{2(1-cos(u,v))}\n",
    "\\end{split}\n",
    "\\end{equation}\n",
    "\n",
    "Thus, **Euclidean distance** betwenn two vectors is proprtional (non-linearly) to their **Cosine similarity**\n",
    "and the range for $ED$ is $[0, \\sqrt{2}]$.  So, the value for threshold to compute Rest2Vec SLO can very between\n",
    "$[0, \\sqrt{2}]$. We choose the threshold on distance such that to **maximize** the coverage!\n"
   ]
  },
  {
   "cell_type": "code",
   "execution_count": null,
   "metadata": {},
   "outputs": [],
   "source": []
  }
 ],
 "metadata": {
  "kernelspec": {
   "display_name": "Python 3",
   "language": "python",
   "name": "python3"
  },
  "language_info": {
   "codemirror_mode": {
    "name": "ipython",
    "version": 3
   },
   "file_extension": ".py",
   "mimetype": "text/x-python",
   "name": "python",
   "nbconvert_exporter": "python",
   "pygments_lexer": "ipython3",
   "version": "3.6.6"
  }
 },
 "nbformat": 4,
 "nbformat_minor": 2
}
